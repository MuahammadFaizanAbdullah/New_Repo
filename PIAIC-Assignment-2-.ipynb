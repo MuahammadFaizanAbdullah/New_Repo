{
 "cells": [
  {
   "cell_type": "markdown",
   "metadata": {},
   "source": [
    "# TO-DO-LIST APPLICATION PROGRAM - ASSIGNMENT #2"
   ]
  },
  {
   "cell_type": "code",
   "execution_count": 13,
   "metadata": {},
   "outputs": [
    {
     "name": "stdout",
     "output_type": "stream",
     "text": [
      "Enter your current task pray namaz\n",
      "To Do List ['quiz preparation', 'assignment 1', 'ebooks download', 'AI course', 'python Course', 'assignment 2']\n",
      "remaining tasks ['reciting QURAN', 'eating sehri', 'eating iftaar', 'traveeh']\n",
      "task completed ['pray namaz']\n"
     ]
    }
   ],
   "source": [
    "to_do_task = ['reciting QURAN' , 'pray namaz' , 'eating sehri' , 'eating iftaar']\n",
    "to_do_task.append('traveeh')\n",
    "left_task = to_do_task + []\n",
    "task_completed= []\n",
    "current_task = input(\"Enter your current task \")\n",
    "if current_task in left_task:\n",
    "    index_of_task=left_task.index(current_task)\n",
    "    left_task.pop(index_of_task)\n",
    "    task_completed.append(current_task)\n",
    "    print(\"To Do List\",to_do_list)\n",
    "    print(\"remaining tasks\",left_task)\n",
    "    print(\"task completed\",task_completed)\n",
    "else:\n",
    "    print(\"Task Not Listed\")"
   ]
  },
  {
   "cell_type": "code",
   "execution_count": null,
   "metadata": {},
   "outputs": [],
   "source": []
  },
  {
   "cell_type": "code",
   "execution_count": null,
   "metadata": {},
   "outputs": [],
   "source": []
  },
  {
   "cell_type": "code",
   "execution_count": null,
   "metadata": {},
   "outputs": [],
   "source": []
  }
 ],
 "metadata": {
  "kernelspec": {
   "display_name": "Python 3",
   "language": "python",
   "name": "python3"
  },
  "language_info": {
   "codemirror_mode": {
    "name": "ipython",
    "version": 3
   },
   "file_extension": ".py",
   "mimetype": "text/x-python",
   "name": "python",
   "nbconvert_exporter": "python",
   "pygments_lexer": "ipython3",
   "version": "3.7.3"
  }
 },
 "nbformat": 4,
 "nbformat_minor": 2
}
